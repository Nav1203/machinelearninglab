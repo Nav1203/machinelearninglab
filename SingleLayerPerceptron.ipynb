{
  "nbformat": 4,
  "nbformat_minor": 0,
  "metadata": {
    "colab": {
      "provenance": []
    },
    "kernelspec": {
      "name": "python3",
      "display_name": "Python 3"
    },
    "language_info": {
      "name": "python"
    }
  },
  "cells": [
    {
      "cell_type": "code",
      "execution_count": null,
      "metadata": {
        "id": "SxH-gMLTyCXX"
      },
      "outputs": [],
      "source": [
        "import pandas as pd\n",
        "import numpy as np\n",
        "from sklearn.preprocessing import LabelEncoder"
      ]
    },
    {
      "cell_type": "code",
      "source": [
        "data=pd.read_csv(\"Iris.csv\")"
      ],
      "metadata": {
        "id": "lGnUILDmyHkW"
      },
      "execution_count": null,
      "outputs": []
    },
    {
      "cell_type": "code",
      "source": [
        "data"
      ],
      "metadata": {
        "colab": {
          "base_uri": "https://localhost:8080/",
          "height": 641
        },
        "id": "gdbWJ_YPyzZY",
        "outputId": "4804f3f4-160b-42e0-cb22-5f8ec89f7247"
      },
      "execution_count": null,
      "outputs": [
        {
          "output_type": "execute_result",
          "data": {
            "text/plain": [
              "      Id  SepalLengthCm  SepalWidthCm  PetalLengthCm  PetalWidthCm  \\\n",
              "0      1            5.1           3.5            1.4           0.2   \n",
              "1      2            4.9           3.0            1.4           0.2   \n",
              "2      3            4.7           3.2            1.3           0.2   \n",
              "3      4            4.6           3.1            1.5           0.2   \n",
              "4      5            5.0           3.6            1.4           0.2   \n",
              "..   ...            ...           ...            ...           ...   \n",
              "145  146            6.7           3.0            5.2           2.3   \n",
              "146  147            6.3           2.5            5.0           1.9   \n",
              "147  148            6.5           3.0            5.2           2.0   \n",
              "148  149            6.2           3.4            5.4           2.3   \n",
              "149  150            5.9           3.0            5.1           1.8   \n",
              "\n",
              "            Species  \n",
              "0       Iris-setosa  \n",
              "1       Iris-setosa  \n",
              "2       Iris-setosa  \n",
              "3       Iris-setosa  \n",
              "4       Iris-setosa  \n",
              "..              ...  \n",
              "145  Iris-virginica  \n",
              "146  Iris-virginica  \n",
              "147  Iris-virginica  \n",
              "148  Iris-virginica  \n",
              "149  Iris-virginica  \n",
              "\n",
              "[150 rows x 6 columns]"
            ],
            "text/html": [
              "\n",
              "  <div id=\"df-3418e4cc-f355-4e38-811f-d899eed10b9d\">\n",
              "    <div class=\"colab-df-container\">\n",
              "      <div>\n",
              "<style scoped>\n",
              "    .dataframe tbody tr th:only-of-type {\n",
              "        vertical-align: middle;\n",
              "    }\n",
              "\n",
              "    .dataframe tbody tr th {\n",
              "        vertical-align: top;\n",
              "    }\n",
              "\n",
              "    .dataframe thead th {\n",
              "        text-align: right;\n",
              "    }\n",
              "</style>\n",
              "<table border=\"1\" class=\"dataframe\">\n",
              "  <thead>\n",
              "    <tr style=\"text-align: right;\">\n",
              "      <th></th>\n",
              "      <th>Id</th>\n",
              "      <th>SepalLengthCm</th>\n",
              "      <th>SepalWidthCm</th>\n",
              "      <th>PetalLengthCm</th>\n",
              "      <th>PetalWidthCm</th>\n",
              "      <th>Species</th>\n",
              "    </tr>\n",
              "  </thead>\n",
              "  <tbody>\n",
              "    <tr>\n",
              "      <th>0</th>\n",
              "      <td>1</td>\n",
              "      <td>5.1</td>\n",
              "      <td>3.5</td>\n",
              "      <td>1.4</td>\n",
              "      <td>0.2</td>\n",
              "      <td>Iris-setosa</td>\n",
              "    </tr>\n",
              "    <tr>\n",
              "      <th>1</th>\n",
              "      <td>2</td>\n",
              "      <td>4.9</td>\n",
              "      <td>3.0</td>\n",
              "      <td>1.4</td>\n",
              "      <td>0.2</td>\n",
              "      <td>Iris-setosa</td>\n",
              "    </tr>\n",
              "    <tr>\n",
              "      <th>2</th>\n",
              "      <td>3</td>\n",
              "      <td>4.7</td>\n",
              "      <td>3.2</td>\n",
              "      <td>1.3</td>\n",
              "      <td>0.2</td>\n",
              "      <td>Iris-setosa</td>\n",
              "    </tr>\n",
              "    <tr>\n",
              "      <th>3</th>\n",
              "      <td>4</td>\n",
              "      <td>4.6</td>\n",
              "      <td>3.1</td>\n",
              "      <td>1.5</td>\n",
              "      <td>0.2</td>\n",
              "      <td>Iris-setosa</td>\n",
              "    </tr>\n",
              "    <tr>\n",
              "      <th>4</th>\n",
              "      <td>5</td>\n",
              "      <td>5.0</td>\n",
              "      <td>3.6</td>\n",
              "      <td>1.4</td>\n",
              "      <td>0.2</td>\n",
              "      <td>Iris-setosa</td>\n",
              "    </tr>\n",
              "    <tr>\n",
              "      <th>...</th>\n",
              "      <td>...</td>\n",
              "      <td>...</td>\n",
              "      <td>...</td>\n",
              "      <td>...</td>\n",
              "      <td>...</td>\n",
              "      <td>...</td>\n",
              "    </tr>\n",
              "    <tr>\n",
              "      <th>145</th>\n",
              "      <td>146</td>\n",
              "      <td>6.7</td>\n",
              "      <td>3.0</td>\n",
              "      <td>5.2</td>\n",
              "      <td>2.3</td>\n",
              "      <td>Iris-virginica</td>\n",
              "    </tr>\n",
              "    <tr>\n",
              "      <th>146</th>\n",
              "      <td>147</td>\n",
              "      <td>6.3</td>\n",
              "      <td>2.5</td>\n",
              "      <td>5.0</td>\n",
              "      <td>1.9</td>\n",
              "      <td>Iris-virginica</td>\n",
              "    </tr>\n",
              "    <tr>\n",
              "      <th>147</th>\n",
              "      <td>148</td>\n",
              "      <td>6.5</td>\n",
              "      <td>3.0</td>\n",
              "      <td>5.2</td>\n",
              "      <td>2.0</td>\n",
              "      <td>Iris-virginica</td>\n",
              "    </tr>\n",
              "    <tr>\n",
              "      <th>148</th>\n",
              "      <td>149</td>\n",
              "      <td>6.2</td>\n",
              "      <td>3.4</td>\n",
              "      <td>5.4</td>\n",
              "      <td>2.3</td>\n",
              "      <td>Iris-virginica</td>\n",
              "    </tr>\n",
              "    <tr>\n",
              "      <th>149</th>\n",
              "      <td>150</td>\n",
              "      <td>5.9</td>\n",
              "      <td>3.0</td>\n",
              "      <td>5.1</td>\n",
              "      <td>1.8</td>\n",
              "      <td>Iris-virginica</td>\n",
              "    </tr>\n",
              "  </tbody>\n",
              "</table>\n",
              "<p>150 rows × 6 columns</p>\n",
              "</div>\n",
              "      <button class=\"colab-df-convert\" onclick=\"convertToInteractive('df-3418e4cc-f355-4e38-811f-d899eed10b9d')\"\n",
              "              title=\"Convert this dataframe to an interactive table.\"\n",
              "              style=\"display:none;\">\n",
              "        \n",
              "  <svg xmlns=\"http://www.w3.org/2000/svg\" height=\"24px\"viewBox=\"0 0 24 24\"\n",
              "       width=\"24px\">\n",
              "    <path d=\"M0 0h24v24H0V0z\" fill=\"none\"/>\n",
              "    <path d=\"M18.56 5.44l.94 2.06.94-2.06 2.06-.94-2.06-.94-.94-2.06-.94 2.06-2.06.94zm-11 1L8.5 8.5l.94-2.06 2.06-.94-2.06-.94L8.5 2.5l-.94 2.06-2.06.94zm10 10l.94 2.06.94-2.06 2.06-.94-2.06-.94-.94-2.06-.94 2.06-2.06.94z\"/><path d=\"M17.41 7.96l-1.37-1.37c-.4-.4-.92-.59-1.43-.59-.52 0-1.04.2-1.43.59L10.3 9.45l-7.72 7.72c-.78.78-.78 2.05 0 2.83L4 21.41c.39.39.9.59 1.41.59.51 0 1.02-.2 1.41-.59l7.78-7.78 2.81-2.81c.8-.78.8-2.07 0-2.86zM5.41 20L4 18.59l7.72-7.72 1.47 1.35L5.41 20z\"/>\n",
              "  </svg>\n",
              "      </button>\n",
              "      \n",
              "  <style>\n",
              "    .colab-df-container {\n",
              "      display:flex;\n",
              "      flex-wrap:wrap;\n",
              "      gap: 12px;\n",
              "    }\n",
              "\n",
              "    .colab-df-convert {\n",
              "      background-color: #E8F0FE;\n",
              "      border: none;\n",
              "      border-radius: 50%;\n",
              "      cursor: pointer;\n",
              "      display: none;\n",
              "      fill: #1967D2;\n",
              "      height: 32px;\n",
              "      padding: 0 0 0 0;\n",
              "      width: 32px;\n",
              "    }\n",
              "\n",
              "    .colab-df-convert:hover {\n",
              "      background-color: #E2EBFA;\n",
              "      box-shadow: 0px 1px 2px rgba(60, 64, 67, 0.3), 0px 1px 3px 1px rgba(60, 64, 67, 0.15);\n",
              "      fill: #174EA6;\n",
              "    }\n",
              "\n",
              "    [theme=dark] .colab-df-convert {\n",
              "      background-color: #3B4455;\n",
              "      fill: #D2E3FC;\n",
              "    }\n",
              "\n",
              "    [theme=dark] .colab-df-convert:hover {\n",
              "      background-color: #434B5C;\n",
              "      box-shadow: 0px 1px 3px 1px rgba(0, 0, 0, 0.15);\n",
              "      filter: drop-shadow(0px 1px 2px rgba(0, 0, 0, 0.3));\n",
              "      fill: #FFFFFF;\n",
              "    }\n",
              "  </style>\n",
              "\n",
              "      <script>\n",
              "        const buttonEl =\n",
              "          document.querySelector('#df-3418e4cc-f355-4e38-811f-d899eed10b9d button.colab-df-convert');\n",
              "        buttonEl.style.display =\n",
              "          google.colab.kernel.accessAllowed ? 'block' : 'none';\n",
              "\n",
              "        async function convertToInteractive(key) {\n",
              "          const element = document.querySelector('#df-3418e4cc-f355-4e38-811f-d899eed10b9d');\n",
              "          const dataTable =\n",
              "            await google.colab.kernel.invokeFunction('convertToInteractive',\n",
              "                                                     [key], {});\n",
              "          if (!dataTable) return;\n",
              "\n",
              "          const docLinkHtml = 'Like what you see? Visit the ' +\n",
              "            '<a target=\"_blank\" href=https://colab.research.google.com/notebooks/data_table.ipynb>data table notebook</a>'\n",
              "            + ' to learn more about interactive tables.';\n",
              "          element.innerHTML = '';\n",
              "          dataTable['output_type'] = 'display_data';\n",
              "          await google.colab.output.renderOutput(dataTable, element);\n",
              "          const docLink = document.createElement('div');\n",
              "          docLink.innerHTML = docLinkHtml;\n",
              "          element.appendChild(docLink);\n",
              "        }\n",
              "      </script>\n",
              "    </div>\n",
              "  </div>\n",
              "  "
            ]
          },
          "metadata": {},
          "execution_count": 101
        }
      ]
    },
    {
      "cell_type": "code",
      "source": [
        "data.drop(\"Id\",axis=1,inplace=True)"
      ],
      "metadata": {
        "id": "UkmZDncZypha"
      },
      "execution_count": null,
      "outputs": []
    },
    {
      "cell_type": "code",
      "source": [
        "data.columns=['Sepal_len_cm','Sepal_wid_cm','Petal_len_cm','Petal_wid_cm','Type']\n",
        "data.head()"
      ],
      "metadata": {
        "colab": {
          "base_uri": "https://localhost:8080/",
          "height": 206
        },
        "id": "Kl70AD4wyZ08",
        "outputId": "4bffeae8-b7c9-4185-f3a7-d3b0df5ad338"
      },
      "execution_count": null,
      "outputs": [
        {
          "output_type": "execute_result",
          "data": {
            "text/plain": [
              "   Sepal_len_cm  Sepal_wid_cm  Petal_len_cm  Petal_wid_cm         Type\n",
              "0           5.1           3.5           1.4           0.2  Iris-setosa\n",
              "1           4.9           3.0           1.4           0.2  Iris-setosa\n",
              "2           4.7           3.2           1.3           0.2  Iris-setosa\n",
              "3           4.6           3.1           1.5           0.2  Iris-setosa\n",
              "4           5.0           3.6           1.4           0.2  Iris-setosa"
            ],
            "text/html": [
              "\n",
              "  <div id=\"df-87fe70d3-1898-41f8-9122-81273126a8f6\">\n",
              "    <div class=\"colab-df-container\">\n",
              "      <div>\n",
              "<style scoped>\n",
              "    .dataframe tbody tr th:only-of-type {\n",
              "        vertical-align: middle;\n",
              "    }\n",
              "\n",
              "    .dataframe tbody tr th {\n",
              "        vertical-align: top;\n",
              "    }\n",
              "\n",
              "    .dataframe thead th {\n",
              "        text-align: right;\n",
              "    }\n",
              "</style>\n",
              "<table border=\"1\" class=\"dataframe\">\n",
              "  <thead>\n",
              "    <tr style=\"text-align: right;\">\n",
              "      <th></th>\n",
              "      <th>Sepal_len_cm</th>\n",
              "      <th>Sepal_wid_cm</th>\n",
              "      <th>Petal_len_cm</th>\n",
              "      <th>Petal_wid_cm</th>\n",
              "      <th>Type</th>\n",
              "    </tr>\n",
              "  </thead>\n",
              "  <tbody>\n",
              "    <tr>\n",
              "      <th>0</th>\n",
              "      <td>5.1</td>\n",
              "      <td>3.5</td>\n",
              "      <td>1.4</td>\n",
              "      <td>0.2</td>\n",
              "      <td>Iris-setosa</td>\n",
              "    </tr>\n",
              "    <tr>\n",
              "      <th>1</th>\n",
              "      <td>4.9</td>\n",
              "      <td>3.0</td>\n",
              "      <td>1.4</td>\n",
              "      <td>0.2</td>\n",
              "      <td>Iris-setosa</td>\n",
              "    </tr>\n",
              "    <tr>\n",
              "      <th>2</th>\n",
              "      <td>4.7</td>\n",
              "      <td>3.2</td>\n",
              "      <td>1.3</td>\n",
              "      <td>0.2</td>\n",
              "      <td>Iris-setosa</td>\n",
              "    </tr>\n",
              "    <tr>\n",
              "      <th>3</th>\n",
              "      <td>4.6</td>\n",
              "      <td>3.1</td>\n",
              "      <td>1.5</td>\n",
              "      <td>0.2</td>\n",
              "      <td>Iris-setosa</td>\n",
              "    </tr>\n",
              "    <tr>\n",
              "      <th>4</th>\n",
              "      <td>5.0</td>\n",
              "      <td>3.6</td>\n",
              "      <td>1.4</td>\n",
              "      <td>0.2</td>\n",
              "      <td>Iris-setosa</td>\n",
              "    </tr>\n",
              "  </tbody>\n",
              "</table>\n",
              "</div>\n",
              "      <button class=\"colab-df-convert\" onclick=\"convertToInteractive('df-87fe70d3-1898-41f8-9122-81273126a8f6')\"\n",
              "              title=\"Convert this dataframe to an interactive table.\"\n",
              "              style=\"display:none;\">\n",
              "        \n",
              "  <svg xmlns=\"http://www.w3.org/2000/svg\" height=\"24px\"viewBox=\"0 0 24 24\"\n",
              "       width=\"24px\">\n",
              "    <path d=\"M0 0h24v24H0V0z\" fill=\"none\"/>\n",
              "    <path d=\"M18.56 5.44l.94 2.06.94-2.06 2.06-.94-2.06-.94-.94-2.06-.94 2.06-2.06.94zm-11 1L8.5 8.5l.94-2.06 2.06-.94-2.06-.94L8.5 2.5l-.94 2.06-2.06.94zm10 10l.94 2.06.94-2.06 2.06-.94-2.06-.94-.94-2.06-.94 2.06-2.06.94z\"/><path d=\"M17.41 7.96l-1.37-1.37c-.4-.4-.92-.59-1.43-.59-.52 0-1.04.2-1.43.59L10.3 9.45l-7.72 7.72c-.78.78-.78 2.05 0 2.83L4 21.41c.39.39.9.59 1.41.59.51 0 1.02-.2 1.41-.59l7.78-7.78 2.81-2.81c.8-.78.8-2.07 0-2.86zM5.41 20L4 18.59l7.72-7.72 1.47 1.35L5.41 20z\"/>\n",
              "  </svg>\n",
              "      </button>\n",
              "      \n",
              "  <style>\n",
              "    .colab-df-container {\n",
              "      display:flex;\n",
              "      flex-wrap:wrap;\n",
              "      gap: 12px;\n",
              "    }\n",
              "\n",
              "    .colab-df-convert {\n",
              "      background-color: #E8F0FE;\n",
              "      border: none;\n",
              "      border-radius: 50%;\n",
              "      cursor: pointer;\n",
              "      display: none;\n",
              "      fill: #1967D2;\n",
              "      height: 32px;\n",
              "      padding: 0 0 0 0;\n",
              "      width: 32px;\n",
              "    }\n",
              "\n",
              "    .colab-df-convert:hover {\n",
              "      background-color: #E2EBFA;\n",
              "      box-shadow: 0px 1px 2px rgba(60, 64, 67, 0.3), 0px 1px 3px 1px rgba(60, 64, 67, 0.15);\n",
              "      fill: #174EA6;\n",
              "    }\n",
              "\n",
              "    [theme=dark] .colab-df-convert {\n",
              "      background-color: #3B4455;\n",
              "      fill: #D2E3FC;\n",
              "    }\n",
              "\n",
              "    [theme=dark] .colab-df-convert:hover {\n",
              "      background-color: #434B5C;\n",
              "      box-shadow: 0px 1px 3px 1px rgba(0, 0, 0, 0.15);\n",
              "      filter: drop-shadow(0px 1px 2px rgba(0, 0, 0, 0.3));\n",
              "      fill: #FFFFFF;\n",
              "    }\n",
              "  </style>\n",
              "\n",
              "      <script>\n",
              "        const buttonEl =\n",
              "          document.querySelector('#df-87fe70d3-1898-41f8-9122-81273126a8f6 button.colab-df-convert');\n",
              "        buttonEl.style.display =\n",
              "          google.colab.kernel.accessAllowed ? 'block' : 'none';\n",
              "\n",
              "        async function convertToInteractive(key) {\n",
              "          const element = document.querySelector('#df-87fe70d3-1898-41f8-9122-81273126a8f6');\n",
              "          const dataTable =\n",
              "            await google.colab.kernel.invokeFunction('convertToInteractive',\n",
              "                                                     [key], {});\n",
              "          if (!dataTable) return;\n",
              "\n",
              "          const docLinkHtml = 'Like what you see? Visit the ' +\n",
              "            '<a target=\"_blank\" href=https://colab.research.google.com/notebooks/data_table.ipynb>data table notebook</a>'\n",
              "            + ' to learn more about interactive tables.';\n",
              "          element.innerHTML = '';\n",
              "          dataTable['output_type'] = 'display_data';\n",
              "          await google.colab.output.renderOutput(dataTable, element);\n",
              "          const docLink = document.createElement('div');\n",
              "          docLink.innerHTML = docLinkHtml;\n",
              "          element.appendChild(docLink);\n",
              "        }\n",
              "      </script>\n",
              "    </div>\n",
              "  </div>\n",
              "  "
            ]
          },
          "metadata": {},
          "execution_count": 103
        }
      ]
    },
    {
      "cell_type": "code",
      "source": [
        "le=LabelEncoder()"
      ],
      "metadata": {
        "id": "zdWWfu2C0FIr"
      },
      "execution_count": null,
      "outputs": []
    },
    {
      "cell_type": "code",
      "source": [
        "data['Type']=le.fit_transform(data['Type'])"
      ],
      "metadata": {
        "id": "WEpKx17G0K17"
      },
      "execution_count": null,
      "outputs": []
    },
    {
      "cell_type": "code",
      "source": [
        "def activation_func(value):\n",
        "    return ((np.exp(value)-np.exp(-value))/(np.exp(value)+np.exp(-value)))"
      ],
      "metadata": {
        "id": "Qey9CoUlyj82"
      },
      "execution_count": null,
      "outputs": []
    },
    {
      "cell_type": "code",
      "source": [
        "def perceptron_train(in_data,labels,alpha):\n",
        "    X=np.array(in_data)\n",
        "    y=np.array(labels)\n",
        "    weights=np.random.random(X.shape[1])\n",
        "    original=weights\n",
        "    bias=np.random.random_sample()\n",
        "    for key in range(X.shape[0]):\n",
        "        a=activation_func(np.matmul(np.transpose(weights),X[key]))     \n",
        "        yn=0\n",
        "        if a>=0.7:\n",
        "            yn=1\n",
        "        elif a<=(-0.7):\n",
        "            yn=-1\n",
        "        weights=weights+alpha*(yn-y[key])*X[key]\n",
        "        print('Iteration '+str(key)+': '+str(weights))\n",
        "    print('Difference: '+str(weights-original))\n",
        "    return weights"
      ],
      "metadata": {
        "id": "pA0wngWmzB4D"
      },
      "execution_count": null,
      "outputs": []
    },
    {
      "cell_type": "code",
      "source": [
        "def perceptron_test(in_data,label_shape,weights):\n",
        "    X=np.array(in_data)\n",
        "    y=np.zeros(label_shape)\n",
        "    for key in range(X.shape[1]):\n",
        "        a=activation_func((weights*X[key]).sum())\n",
        "        y[key]=0\n",
        "        if a>=0.7:\n",
        "            y[key]=1\n",
        "        elif a<=(-0.7):\n",
        "            y[key]=-1\n",
        "    return y"
      ],
      "metadata": {
        "id": "4Wx1v7r5zlK5"
      },
      "execution_count": null,
      "outputs": []
    },
    {
      "cell_type": "code",
      "source": [
        "def score(result,labels):\n",
        "    difference=result-np.array(labels)                                                        \n",
        "    correct_ctr=0\n",
        "    for elem in range(difference.shape[0]):\n",
        "        if difference[elem]==0:\n",
        "            correct_ctr+=1\n",
        "    score=correct_ctr*100/difference.size\n",
        "    print('Score='+str(score))"
      ],
      "metadata": {
        "id": "x5eMsFvzznRW"
      },
      "execution_count": null,
      "outputs": []
    },
    {
      "cell_type": "code",
      "source": [
        "divider = np.random.rand(len(data)) < 0.70\n",
        "d_train=data[divider]\n",
        "d_test=data[~divider]"
      ],
      "metadata": {
        "id": "rofFR5WBzo6H"
      },
      "execution_count": null,
      "outputs": []
    },
    {
      "cell_type": "code",
      "source": [
        "d_train_y=d_train['Type']\n",
        "d_train_X=d_train.drop(['Type'],axis=1)"
      ],
      "metadata": {
        "id": "BcsD6knkzqw3"
      },
      "execution_count": null,
      "outputs": []
    },
    {
      "cell_type": "code",
      "source": [
        "d_test_y=d_test['Type']\n",
        "d_test_X=d_test.drop(['Type'],axis=1)"
      ],
      "metadata": {
        "id": "OlrxwRw8ztPX"
      },
      "execution_count": null,
      "outputs": []
    },
    {
      "cell_type": "code",
      "source": [
        "alpha = 0.01"
      ],
      "metadata": {
        "id": "sBiNYK5zzu_u"
      },
      "execution_count": null,
      "outputs": []
    },
    {
      "cell_type": "code",
      "source": [
        "weights = perceptron_train(d_train_X, d_train_y, alpha)"
      ],
      "metadata": {
        "colab": {
          "base_uri": "https://localhost:8080/"
        },
        "id": "yXSAc9QQzwyZ",
        "outputId": "e500f99b-9b3d-453d-a74c-0b44611abc39"
      },
      "execution_count": null,
      "outputs": [
        {
          "output_type": "stream",
          "name": "stdout",
          "text": [
            "Iteration 0: [0.74552263 0.52170207 0.84743917 0.8860579 ]\n",
            "Iteration 1: [0.78952263 0.55070207 0.86143917 0.8880579 ]\n",
            "Iteration 2: [0.83752263 0.58470207 0.87743917 0.8900579 ]\n",
            "Iteration 3: [0.88552263 0.61470207 0.89143917 0.8910579 ]\n",
            "Iteration 4: [0.92852263 0.64470207 0.90243917 0.8920579 ]\n",
            "Iteration 5: [0.98652263 0.68470207 0.91443917 0.8940579 ]\n",
            "Iteration 6: [1.04352263 0.72870207 0.92943917 0.8980579 ]\n",
            "Iteration 7: [1.09752263 0.76770207 0.94243917 0.9020579 ]\n",
            "Iteration 8: [1.14852263 0.80270207 0.95643917 0.9050579 ]\n",
            "Iteration 9: [1.20552263 0.84070207 0.97343917 0.9080579 ]\n",
            "Iteration 10: [1.25652263 0.87870207 0.98843917 0.9110579 ]\n",
            "Iteration 11: [1.30752263 0.91170207 1.00543917 0.9160579 ]\n",
            "Iteration 12: [1.35552263 0.94570207 1.02443917 0.9180579 ]\n",
            "Iteration 13: [1.40552263 0.97970207 1.04043917 0.9220579 ]\n",
            "Iteration 14: [1.45752263 1.01470207 1.05543917 0.9240579 ]\n",
            "Iteration 15: [1.50952263 1.04870207 1.06943917 0.9260579 ]\n",
            "Iteration 16: [1.55652263 1.08070207 1.08543917 0.9280579 ]\n",
            "Iteration 17: [1.60452263 1.11170207 1.10143917 0.9300579 ]\n",
            "Iteration 18: [1.65852263 1.14570207 1.11643917 0.9340579 ]\n",
            "Iteration 19: [1.71052263 1.18670207 1.13143917 0.9350579 ]\n",
            "Iteration 20: [1.76552263 1.22870207 1.14543917 0.9370579 ]\n",
            "Iteration 21: [1.81452263 1.25970207 1.16043917 0.9380579 ]\n",
            "Iteration 22: [1.86352263 1.29070207 1.17543917 0.9390579 ]\n",
            "Iteration 23: [1.90752263 1.32070207 1.18843917 0.9410579 ]\n",
            "Iteration 24: [1.95852263 1.35470207 1.20343917 0.9430579 ]\n",
            "Iteration 25: [2.00352263 1.37770207 1.21643917 0.9460579 ]\n",
            "Iteration 26: [2.04752263 1.40970207 1.22943917 0.9480579 ]\n",
            "Iteration 27: [2.09752263 1.44470207 1.24543917 0.9540579 ]\n",
            "Iteration 28: [2.14852263 1.48270207 1.26143917 0.9560579 ]\n",
            "Iteration 29: [2.19452263 1.51470207 1.27543917 0.9580579 ]\n",
            "Iteration 30: [2.24752263 1.55170207 1.29043917 0.9600579 ]\n",
            "Iteration 31: [2.24752263 1.55170207 1.29043917 0.9600579 ]\n",
            "Iteration 32: [2.24752263 1.55170207 1.29043917 0.9600579 ]\n",
            "Iteration 33: [2.24752263 1.55170207 1.29043917 0.9600579 ]\n",
            "Iteration 34: [2.24752263 1.55170207 1.29043917 0.9600579 ]\n",
            "Iteration 35: [2.24752263 1.55170207 1.29043917 0.9600579 ]\n",
            "Iteration 36: [2.24752263 1.55170207 1.29043917 0.9600579 ]\n",
            "Iteration 37: [2.24752263 1.55170207 1.29043917 0.9600579 ]\n",
            "Iteration 38: [2.24752263 1.55170207 1.29043917 0.9600579 ]\n",
            "Iteration 39: [2.24752263 1.55170207 1.29043917 0.9600579 ]\n",
            "Iteration 40: [2.24752263 1.55170207 1.29043917 0.9600579 ]\n",
            "Iteration 41: [2.24752263 1.55170207 1.29043917 0.9600579 ]\n",
            "Iteration 42: [2.24752263 1.55170207 1.29043917 0.9600579 ]\n",
            "Iteration 43: [2.24752263 1.55170207 1.29043917 0.9600579 ]\n",
            "Iteration 44: [2.24752263 1.55170207 1.29043917 0.9600579 ]\n",
            "Iteration 45: [2.24752263 1.55170207 1.29043917 0.9600579 ]\n",
            "Iteration 46: [2.24752263 1.55170207 1.29043917 0.9600579 ]\n",
            "Iteration 47: [2.24752263 1.55170207 1.29043917 0.9600579 ]\n",
            "Iteration 48: [2.24752263 1.55170207 1.29043917 0.9600579 ]\n",
            "Iteration 49: [2.24752263 1.55170207 1.29043917 0.9600579 ]\n",
            "Iteration 50: [2.24752263 1.55170207 1.29043917 0.9600579 ]\n",
            "Iteration 51: [2.24752263 1.55170207 1.29043917 0.9600579 ]\n",
            "Iteration 52: [2.24752263 1.55170207 1.29043917 0.9600579 ]\n",
            "Iteration 53: [2.24752263 1.55170207 1.29043917 0.9600579 ]\n",
            "Iteration 54: [2.24752263 1.55170207 1.29043917 0.9600579 ]\n",
            "Iteration 55: [2.24752263 1.55170207 1.29043917 0.9600579 ]\n",
            "Iteration 56: [2.24752263 1.55170207 1.29043917 0.9600579 ]\n",
            "Iteration 57: [2.24752263 1.55170207 1.29043917 0.9600579 ]\n",
            "Iteration 58: [2.24752263 1.55170207 1.29043917 0.9600579 ]\n",
            "Iteration 59: [2.24752263 1.55170207 1.29043917 0.9600579 ]\n",
            "Iteration 60: [2.24752263 1.55170207 1.29043917 0.9600579 ]\n",
            "Iteration 61: [2.24752263 1.55170207 1.29043917 0.9600579 ]\n",
            "Iteration 62: [2.24752263 1.55170207 1.29043917 0.9600579 ]\n",
            "Iteration 63: [2.24752263 1.55170207 1.29043917 0.9600579 ]\n",
            "Iteration 64: [2.24752263 1.55170207 1.29043917 0.9600579 ]\n",
            "Iteration 65: [2.18452263 1.51870207 1.23043917 0.9350579 ]\n",
            "Iteration 66: [2.12652263 1.49170207 1.17943917 0.9160579 ]\n",
            "Iteration 67: [2.05552263 1.46170207 1.12043917 0.8950579 ]\n",
            "Iteration 68: [1.99252263 1.43270207 1.06443917 0.8770579 ]\n",
            "Iteration 69: [1.91652263 1.40270207 0.99843917 0.8560579 ]\n",
            "Iteration 70: [1.86752263 1.37770207 0.95343917 0.8390579 ]\n",
            "Iteration 71: [1.79452263 1.34870207 0.89043917 0.8210579 ]\n",
            "Iteration 72: [1.72752263 1.32370207 0.83243917 0.8030579 ]\n",
            "Iteration 73: [1.65552263 1.28770207 0.77143917 0.7780579 ]\n",
            "Iteration 74: [1.59052263 1.25570207 0.72043917 0.7580579 ]\n",
            "Iteration 75: [1.52252263 1.22570207 0.66543917 0.7370579 ]\n",
            "Iteration 76: [1.45852263 1.19370207 0.61243917 0.7140579 ]\n",
            "Iteration 77: [1.38152263 1.15570207 0.54543917 0.6920579 ]\n",
            "Iteration 78: [1.30452263 1.12970207 0.47643917 0.6690579 ]\n",
            "Iteration 79: [1.24452263 1.10770207 0.42643917 0.6540579 ]\n",
            "Iteration 80: [1.17552263 1.07570207 0.36943917 0.6310579 ]\n",
            "Iteration 81: [1.11952263 1.04770207 0.32043917 0.6110579 ]\n",
            "Iteration 82: [1.04252263 1.01970207 0.25343917 0.5910579 ]\n",
            "Iteration 83: [0.98052263 0.99170207 0.20543917 0.5730579 ]\n",
            "Iteration 84: [0.90852263 0.96170207 0.14743917 0.5570579 ]\n",
            "Iteration 85: [0.83452263 0.93370207 0.08643917 0.5380579 ]\n",
            "Iteration 86: [0.75552263 0.89570207 0.02243917 0.5180579 ]\n",
            "Iteration 87: [ 0.69452263  0.86970207 -0.03356083  0.5040579 ]\n",
            "Iteration 88: [ 0.63052263  0.83870207 -0.08856083  0.4860579 ]\n",
            "Iteration 89: [ 0.57052263  0.80870207 -0.13656083  0.4680579 ]\n",
            "Iteration 90: [ 0.50152263  0.77770207 -0.19056083  0.4470579 ]\n",
            "Iteration 91: [ 0.44352263  0.75070207 -0.24156083  0.4280579 ]\n",
            "Iteration 92: [ 0.37552263  0.71870207 -0.30056083  0.4050579 ]\n",
            "Iteration 93: [ 0.30852263  0.68570207 -0.35756083  0.3800579 ]\n",
            "Iteration 94: [ 0.24152263  0.65570207 -0.40956083  0.3570579 ]\n",
            "Iteration 95: [ 0.17852263  0.63070207 -0.45956083  0.3380579 ]\n",
            "Iteration 96: [ 0.11352263  0.60070207 -0.51156083  0.3180579 ]\n",
            "Iteration 97: [-0.01047737  0.53270207 -0.61956083  0.2720579 ]\n",
            "Iteration 98: [-0.18747737  0.44270207 -0.77256083  0.2180579 ]\n",
            "Difference: [-0.886 -0.047 -1.607 -0.666]\n"
          ]
        }
      ]
    },
    {
      "cell_type": "code",
      "source": [
        "result_test=perceptron_test(d_test_X,d_test_y.shape,weights)"
      ],
      "metadata": {
        "id": "KtlMFz6bzyO_"
      },
      "execution_count": null,
      "outputs": []
    },
    {
      "cell_type": "code",
      "source": [
        "score(result_test,d_test_y)"
      ],
      "metadata": {
        "colab": {
          "base_uri": "https://localhost:8080/"
        },
        "id": "aY_bHy5f0ZYZ",
        "outputId": "c91e5566-aa2e-4923-9a62-b929c03c15bb"
      },
      "execution_count": null,
      "outputs": [
        {
          "output_type": "stream",
          "name": "stdout",
          "text": [
            "Score=37.254901960784316\n"
          ]
        }
      ]
    },
    {
      "cell_type": "code",
      "source": [],
      "metadata": {
        "id": "wznBA5YT2_Zg"
      },
      "execution_count": null,
      "outputs": []
    }
  ]
}